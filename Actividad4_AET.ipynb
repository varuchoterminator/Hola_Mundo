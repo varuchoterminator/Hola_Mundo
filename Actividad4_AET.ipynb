{
  "nbformat": 4,
  "nbformat_minor": 0,
  "metadata": {
    "colab": {
      "provenance": [],
      "authorship_tag": "ABX9TyNCGNOqVfKV3sOwlSjA6w0c",
      "include_colab_link": true
    },
    "kernelspec": {
      "name": "python3",
      "display_name": "Python 3"
    },
    "language_info": {
      "name": "python"
    }
  },
  "cells": [
    {
      "cell_type": "markdown",
      "metadata": {
        "id": "view-in-github",
        "colab_type": "text"
      },
      "source": [
        "<a href=\"https://colab.research.google.com/github/varuchoterminator/Hola_Mundo/blob/main/Actividad4_AET.ipynb\" target=\"_parent\"><img src=\"https://colab.research.google.com/assets/colab-badge.svg\" alt=\"Open In Colab\"/></a>"
      ]
    },
    {
      "cell_type": "code",
      "execution_count": 2,
      "metadata": {
        "id": "449K4XvgeDBN"
      },
      "outputs": [],
      "source": [
        "import pandas as pd\n",
        "import numpy as np\n",
        "import matplotlib.pyplot as plt\n",
        "import scipy.special as special \n",
        "from scipy.optimize import curve_fit\n",
        "import seaborn as sns\n",
        "from sklearn.metrics import r2_score\n",
        "from sklearn.model_selection import train_test_split\n",
        "from sklearn.preprocessing import StandardScaler"
      ]
    },
    {
      "cell_type": "code",
      "source": [
        "from google.colab import files\n",
        "files.upload()"
      ],
      "metadata": {
        "id": "xgeUKMrongaF"
      },
      "execution_count": null,
      "outputs": []
    },
    {
      "cell_type": "code",
      "source": [
        "rt=pd.read_excel(\"microretailer_mit_lift_lab_actualizado.xlsx\")"
      ],
      "metadata": {
        "id": "ABX3B_aAnnCt"
      },
      "execution_count": 4,
      "outputs": []
    },
    {
      "cell_type": "code",
      "source": [
        "rt.info()"
      ],
      "metadata": {
        "id": "gqG7loHFnwIa"
      },
      "execution_count": null,
      "outputs": []
    },
    {
      "cell_type": "code",
      "source": [
        "d1=rt.copy()\n",
        "d1"
      ],
      "metadata": {
        "id": "kfsSyu6bn0QL"
      },
      "execution_count": null,
      "outputs": []
    },
    {
      "cell_type": "code",
      "source": [
        "vn=d1.isnull().sum()\n",
        "vn"
      ],
      "metadata": {
        "id": "gWd7XSfyqnXn"
      },
      "execution_count": null,
      "outputs": []
    },
    {
      "cell_type": "code",
      "source": [
        "d2=d1.copy()"
      ],
      "metadata": {
        "id": "wCJY5wPJq__j"
      },
      "execution_count": 9,
      "outputs": []
    },
    {
      "cell_type": "code",
      "source": [
        "d2=d1.fillna(method=\"bfill\")\n",
        "d2"
      ],
      "metadata": {
        "id": "zBK42CAcrCtP"
      },
      "execution_count": null,
      "outputs": []
    },
    {
      "cell_type": "code",
      "source": [
        "vn=d2.isnull().sum()\n",
        "vn"
      ],
      "metadata": {
        "id": "WwfzYhX8rLnI"
      },
      "execution_count": null,
      "outputs": []
    },
    {
      "cell_type": "code",
      "source": [
        "d3=d2.fillna(method=\"ffill\")\n",
        "d3"
      ],
      "metadata": {
        "id": "boH84gnMrRVx"
      },
      "execution_count": null,
      "outputs": []
    },
    {
      "cell_type": "code",
      "source": [
        "vn=d3.isnull().sum()\n",
        "vn"
      ],
      "metadata": {
        "id": "3_eYw45NrZF3"
      },
      "execution_count": null,
      "outputs": []
    },
    {
      "cell_type": "code",
      "source": [
        "d4=d3.fillna('no valido')\n",
        "d4"
      ],
      "metadata": {
        "id": "bk_IqCQYrhA0"
      },
      "execution_count": null,
      "outputs": []
    },
    {
      "cell_type": "code",
      "source": [
        "d5=d4.copy()"
      ],
      "metadata": {
        "id": "He69jv7krneM"
      },
      "execution_count": 15,
      "outputs": []
    },
    {
      "cell_type": "code",
      "source": [
        "cuant=d5.iloc[:, [13,14,16,21,22,29,31,33,42,49,51,56,57,58,59,60,78,90]] \n",
        "cuant"
      ],
      "metadata": {
        "id": "GmoKO9RKruMt"
      },
      "execution_count": null,
      "outputs": []
    },
    {
      "cell_type": "code",
      "source": [
        "cuali=d2.iloc[:,[0,1,2,3,4,5,6,7,8,9,10,11,12,15,17,18,19,20,23,24,25,26,27,28,30,32,34,35,36,37,38,39,40,41,42,43,44,45,46,47,48,50,52,53,54,55,61,62,63,64,65,66,67,68,69,70,71,72,73,74,75,76,77,79,80,81,82,83,84,85,86,87,88,89,91,92,93,94,95,96,97,98,99,100,101,102,103,104,105]]\n",
        "cuali"
      ],
      "metadata": {
        "id": "Xdoh7prFsA76"
      },
      "execution_count": null,
      "outputs": []
    },
    {
      "cell_type": "code",
      "source": [
        "vn=cuant.isnull().sum()\n",
        "vn"
      ],
      "metadata": {
        "id": "JUCu8VIhtm5l"
      },
      "execution_count": null,
      "outputs": []
    },
    {
      "cell_type": "code",
      "source": [
        "y=cuant\n",
        "Limite_Superior=y.mean()+3*y.std()\n",
        "Limite_Inferior=y.mean()-3*y.std()\n",
        "print(\"Limite superior permitido\"),Limite_Superior\n",
        "print(\"Limite inferior permitido\"),Limite_Inferior"
      ],
      "metadata": {
        "id": "yNuNMWeHttif"
      },
      "execution_count": null,
      "outputs": []
    },
    {
      "cell_type": "code",
      "source": [
        "outliers=cuant[(y>Limite_Superior)|(y<Limite_Inferior)]\n",
        "outliers"
      ],
      "metadata": {
        "id": "E9hM93WtuatD"
      },
      "execution_count": null,
      "outputs": []
    },
    {
      "cell_type": "code",
      "source": [
        "vn=d5.isnull().sum()\n",
        "vn"
      ],
      "metadata": {
        "id": "Y758u5rwup5K"
      },
      "execution_count": null,
      "outputs": []
    },
    {
      "cell_type": "code",
      "source": [
        "data_clean=d5.copy()\n",
        "data_clean=data_clean.fillna(round(d3.mean(),1))\n",
        "data_clean"
      ],
      "metadata": {
        "id": "puyVSU3fuwLd"
      },
      "execution_count": null,
      "outputs": []
    },
    {
      "cell_type": "code",
      "source": [
        "vn=data_clean.isnull().sum()\n",
        "vn"
      ],
      "metadata": {
        "id": "0scxoG4_u8uP"
      },
      "execution_count": null,
      "outputs": []
    },
    {
      "cell_type": "code",
      "source": [
        "datos_limpios=pd.concat([cuali, data_clean],axis=1)\n",
        "datos_limpios"
      ],
      "metadata": {
        "id": "39xnLjH_vEPP"
      },
      "execution_count": null,
      "outputs": []
    },
    {
      "cell_type": "code",
      "source": [
        "datos_limpios.to_csv(\"Datos_limpios_Micro_retailer_actualizado.csv\")"
      ],
      "metadata": {
        "id": "VaJAvGIRvXHT"
      },
      "execution_count": 26,
      "outputs": []
    },
    {
      "cell_type": "code",
      "source": [
        "from google.colab import files \n",
        "files.download(\"Datos_limpios_Micro_retailer_actualizado.csv\")"
      ],
      "metadata": {
        "id": "BVVoz-FlvgMz"
      },
      "execution_count": null,
      "outputs": []
    },
    {
      "cell_type": "code",
      "source": [
        "from google.colab import files\n",
        "files.upload()"
      ],
      "metadata": {
        "id": "D0LkCO18vp8m"
      },
      "execution_count": null,
      "outputs": []
    },
    {
      "cell_type": "code",
      "source": [
        "df=pd.read_csv(\"Datos_limpios_Micro_retailer_actualizado.csv\")\n",
        "df"
      ],
      "metadata": {
        "id": "QNUy6eq_xHb8"
      },
      "execution_count": null,
      "outputs": []
    },
    {
      "cell_type": "code",
      "source": [
        "from turtle import color\n",
        "sns.scatterplot(x='103_number_own_fridges', y='268_number_fridges',color='blue', data=df)\n",
        "sns.scatterplot(x='172_supplier_frequency',y='268_number_fridges',color='red',data=df)\n",
        "sns.scatterplot(x='145_number_direct_competitors',y='268_number_fridges',color='yellow', data=df)"
      ],
      "metadata": {
        "id": "KNymnKXnv4vR"
      },
      "execution_count": null,
      "outputs": []
    },
    {
      "cell_type": "code",
      "source": [
        "vars_indep=df[['103_number_own_fridges','172_supplier_frequency','145_number_direct_competitors']]\n",
        "var_dep=df['268_number_fridges']"
      ],
      "metadata": {
        "id": "1x-cE_blxYS-"
      },
      "execution_count": 38,
      "outputs": []
    },
    {
      "cell_type": "code",
      "source": [
        "from sklearn.linear_model import LinearRegression\n",
        "model=LinearRegression()"
      ],
      "metadata": {
        "id": "zpQm9ASeyw96"
      },
      "execution_count": 39,
      "outputs": []
    },
    {
      "cell_type": "code",
      "source": [
        "type(model)"
      ],
      "metadata": {
        "id": "J8qMxc8Ay7cD"
      },
      "execution_count": null,
      "outputs": []
    },
    {
      "cell_type": "code",
      "source": [
        "model.fit(X=vars_indep, y=var_dep)"
      ],
      "metadata": {
        "colab": {
          "base_uri": "https://localhost:8080/"
        },
        "id": "a9rFiBS1y-Pc",
        "outputId": "7c782b7d-7d71-4ef2-d66b-41996ccca5b3"
      },
      "execution_count": 52,
      "outputs": [
        {
          "output_type": "execute_result",
          "data": {
            "text/plain": [
              "LinearRegression()"
            ]
          },
          "metadata": {},
          "execution_count": 52
        }
      ]
    },
    {
      "cell_type": "code",
      "source": [
        "model.__dict__"
      ],
      "metadata": {
        "id": "2XbkdCFM0bpd"
      },
      "execution_count": null,
      "outputs": []
    },
    {
      "cell_type": "code",
      "source": [
        "model.score(vars_indep,var_dep)"
      ],
      "metadata": {
        "colab": {
          "base_uri": "https://localhost:8080/"
        },
        "id": "8fSjQtwW0lEr",
        "outputId": "e2ffe21f-d104-4b23-f1f5-82fd64beac0d"
      },
      "execution_count": 55,
      "outputs": [
        {
          "output_type": "execute_result",
          "data": {
            "text/plain": [
              "0.05727834113747032"
            ]
          },
          "metadata": {},
          "execution_count": 55
        }
      ]
    },
    {
      "cell_type": "code",
      "source": [
        "y_pred=model.predict(X=df[['103_number_own_fridges','172_supplier_frequency','145_number_direct_competitors']])\n",
        "y_pred"
      ],
      "metadata": {
        "id": "El7Umxy30v2V"
      },
      "execution_count": null,
      "outputs": []
    },
    {
      "cell_type": "code",
      "source": [
        "df.insert(0,'Predicciones',y_pred)\n",
        "df"
      ],
      "metadata": {
        "id": "64APyOAJ1gEj"
      },
      "execution_count": null,
      "outputs": []
    },
    {
      "cell_type": "code",
      "source": [
        "sns.scatterplot(x='103_number_own_fridges',y='268_number_fridges',color='blue',data=df)\n",
        "sns.scatterplot(x='103_number_own_fridges',y='Predicciones',color='green',data=df)"
      ],
      "metadata": {
        "id": "8tjqCXwe1n39"
      },
      "execution_count": null,
      "outputs": []
    },
    {
      "cell_type": "code",
      "source": [
        "sns.scatterplot(x='172_supplier_frequency',y='268_number_fridges',color='blue',data=df)\n",
        "sns.scatterplot(x='172_supplier_frequency',y='Predicciones',color='brown',data=df)"
      ],
      "metadata": {
        "id": "0uy9jbj12Pzz"
      },
      "execution_count": null,
      "outputs": []
    },
    {
      "cell_type": "code",
      "source": [
        "sns.scatterplot(x='145_number_direct_competitors',y='268_number_fridges',color='yellow',data=df)\n",
        "sns.scatterplot(x='145_number_direct_competitors',y='Predicciones',color='blue',data=df)"
      ],
      "metadata": {
        "id": "T9uSNMfv2yjQ"
      },
      "execution_count": null,
      "outputs": []
    },
    {
      "cell_type": "code",
      "source": [
        "c_deter=model.score(X=vars_indep,y=var_dep)\n",
        "c_deter"
      ],
      "metadata": {
        "colab": {
          "base_uri": "https://localhost:8080/"
        },
        "id": "o6lnGksz3R32",
        "outputId": "45fa0463-8b52-458a-a3f4-b50dd06891db"
      },
      "execution_count": 64,
      "outputs": [
        {
          "output_type": "execute_result",
          "data": {
            "text/plain": [
              "0.05727834113747032"
            ]
          },
          "metadata": {},
          "execution_count": 64
        }
      ]
    },
    {
      "cell_type": "code",
      "source": [
        "c_correl=np.sqrt(c_deter)\n",
        "c_correl"
      ],
      "metadata": {
        "id": "CMxfYap-3iAQ"
      },
      "execution_count": null,
      "outputs": []
    },
    {
      "cell_type": "code",
      "source": [
        "from turtle import color\n",
        "sns.scatterplot(x='103_number_own_fridges',y='268_number_fridges',color='red',data=df)\n",
        "sns.scatterplot(x='172_supplier_frequency',y='268_number_fridges',color='yellow',data=df)\n",
        "sns.scatterplot(x='97_number_of_customers_in_store',y='268_number_fridges',color='blue',data=df)"
      ],
      "metadata": {
        "id": "nkDQKzLg4Cyf"
      },
      "execution_count": null,
      "outputs": []
    },
    {
      "cell_type": "code",
      "source": [
        "vars_indep=df[['103_number_own_fridges','172_supplier_frequency','97_number_of_customers_in_store']]\n",
        "var_dep=df['268_number_fridges']"
      ],
      "metadata": {
        "id": "BlNAEV6O6KR3"
      },
      "execution_count": 69,
      "outputs": []
    },
    {
      "cell_type": "code",
      "source": [
        "from sklearn.linear_model import LinearRegression\n",
        "model=LinearRegression()"
      ],
      "metadata": {
        "id": "Rqy0l4y96gmN"
      },
      "execution_count": 70,
      "outputs": []
    },
    {
      "cell_type": "code",
      "source": [
        "type(model)"
      ],
      "metadata": {
        "id": "pD8zAKqJ6pPq"
      },
      "execution_count": null,
      "outputs": []
    },
    {
      "cell_type": "code",
      "source": [
        "model.fit(X=vars_indep,y=var_dep)"
      ],
      "metadata": {
        "id": "kHR-IUze6r2e"
      },
      "execution_count": null,
      "outputs": []
    },
    {
      "cell_type": "code",
      "source": [
        "model.__dict__"
      ],
      "metadata": {
        "id": "XHZynHGh6-vi"
      },
      "execution_count": null,
      "outputs": []
    },
    {
      "cell_type": "code",
      "source": [
        "model.score(vars_indep,var_dep)"
      ],
      "metadata": {
        "id": "9w7i9t777CLH"
      },
      "execution_count": null,
      "outputs": []
    },
    {
      "cell_type": "code",
      "source": [
        "y_pred=model.predict(X=df[['103_number_own_fridges','172_supplier_frequency','97_number_of_customers_in_store']])\n",
        "y_pred"
      ],
      "metadata": {
        "id": "PWAwDWld7IxA"
      },
      "execution_count": null,
      "outputs": []
    },
    {
      "cell_type": "code",
      "source": [
        "df.insert(0,'Predicciones2',y_pred)\n",
        "df"
      ],
      "metadata": {
        "id": "xBLSEu2f8EX5"
      },
      "execution_count": null,
      "outputs": []
    },
    {
      "cell_type": "code",
      "source": [
        "sns.scatterplot(x='103_number_own_fridges',y='268_number_fridges',color='blue',data=df)\n",
        "sns.scatterplot(x='103_number_own_fridges',y='Predicciones2',color='yellow',data=df)"
      ],
      "metadata": {
        "id": "ETczl4808Wqk"
      },
      "execution_count": null,
      "outputs": []
    },
    {
      "cell_type": "code",
      "source": [
        "sns.scatterplot(x='172_supplier_frequency',y='268_number_fridges',color='yellow',data=df)\n",
        "sns.scatterplot(x='172_supplier_frequency',y='Predicciones2',color='blue',data=df)"
      ],
      "metadata": {
        "id": "3_H_To7M9Dqc"
      },
      "execution_count": null,
      "outputs": []
    },
    {
      "cell_type": "code",
      "source": [
        "sns.scatterplot(x='97_number_of_customers_in_store',y='268_number_fridges',color='yellow',data=df)\n",
        "sns.scatterplot(x='97_number_of_customers_in_store',y='Predicciones2',color='blue',data=df)"
      ],
      "metadata": {
        "id": "-ImBeugY9v8_"
      },
      "execution_count": null,
      "outputs": []
    },
    {
      "cell_type": "code",
      "source": [
        "c_deterr=model.score(X=vars_indep,y=var_dep)\n",
        "c_deterr"
      ],
      "metadata": {
        "id": "G4HLhYWJ-wLZ"
      },
      "execution_count": null,
      "outputs": []
    },
    {
      "cell_type": "code",
      "source": [
        "c_correl=np.sqrt(c_deterr)\n",
        "c_correl"
      ],
      "metadata": {
        "id": "vQjWYt3--Zph"
      },
      "execution_count": null,
      "outputs": []
    },
    {
      "cell_type": "code",
      "source": [
        "from turtle import color \n",
        "sns.scatterplot(x='103_number_own_fridges',y='268_number_fridges', color='red',data=df)\n",
        "sns.scatterplot(x='172_supplier_frequency',y='268_number_fridges',color='brown',data=df)\n",
        "sns.scatterplot(x='24_burnout',y='268_number_fridges',color='blue',data=df)"
      ],
      "metadata": {
        "id": "Vbyun681_R0W"
      },
      "execution_count": null,
      "outputs": []
    },
    {
      "cell_type": "code",
      "source": [
        "vars_indep=df[['103_number_own_fridges','172_supplier_frequency','24_burnout']]\n",
        "var_dep=df['268_number_fridges']"
      ],
      "metadata": {
        "id": "0Gmxwbb4_9TV"
      },
      "execution_count": 89,
      "outputs": []
    },
    {
      "cell_type": "code",
      "source": [
        "from google.colab import files\n",
        "files.upload()"
      ],
      "metadata": {
        "id": "-PgbPhClAOiT"
      },
      "execution_count": null,
      "outputs": []
    },
    {
      "cell_type": "code",
      "source": [
        "df=pd.read_csv('Datos_limpios_Micro_retailer_actualizado.csv')\n",
        "df.head(5)"
      ],
      "metadata": {
        "id": "WxzQro8_AZrh"
      },
      "execution_count": null,
      "outputs": []
    },
    {
      "cell_type": "code",
      "source": [
        "df=df.fillna(method='ffill')"
      ],
      "metadata": {
        "id": "F59WvjulAtD_"
      },
      "execution_count": 93,
      "outputs": []
    },
    {
      "cell_type": "code",
      "source": [
        "v_indep=df[['97_number_of_customers_in_store','317_home_deliveries','2_current_permanent_employees']]\n",
        "v_dep=df['186_internet_connection']"
      ],
      "metadata": {
        "id": "2IZfStQIAy12"
      },
      "execution_count": 96,
      "outputs": []
    },
    {
      "cell_type": "code",
      "source": [
        "X=v_indep\n",
        "y=v_dep"
      ],
      "metadata": {
        "id": "sbnKBISUBMth"
      },
      "execution_count": 100,
      "outputs": []
    },
    {
      "cell_type": "code",
      "source": [
        "X_train, X_test, y_train, y_test=train_test_split(X,y, test_size=0.3, random_state=None)"
      ],
      "metadata": {
        "id": "eGCBwtvWBV4h"
      },
      "execution_count": null,
      "outputs": []
    },
    {
      "cell_type": "code",
      "source": [
        "ecl=StandardScaler()"
      ],
      "metadata": {
        "id": "SAamGzibB7lI"
      },
      "execution_count": 103,
      "outputs": []
    },
    {
      "cell_type": "code",
      "source": [
        "X_train=ecl.fit_transform(X_train)\n",
        "X_test=ecl.transform(X_test)"
      ],
      "metadata": {
        "id": "t1JDdk9RCARN"
      },
      "execution_count": 105,
      "outputs": []
    },
    {
      "cell_type": "code",
      "source": [
        "from sklearn.linear_model import LogisticRegression\n",
        "ag=LogisticRegression()"
      ],
      "metadata": {
        "id": "csHW5BDYCPQU"
      },
      "execution_count": 106,
      "outputs": []
    },
    {
      "cell_type": "code",
      "source": [
        "ag.fit(X_train,y_train)"
      ],
      "metadata": {
        "colab": {
          "base_uri": "https://localhost:8080/"
        },
        "id": "zj_VN4iVCYDZ",
        "outputId": "34bf29ad-85d6-4124-a364-fe3a3a0fc7ae"
      },
      "execution_count": 107,
      "outputs": [
        {
          "output_type": "execute_result",
          "data": {
            "text/plain": [
              "LogisticRegression()"
            ]
          },
          "metadata": {},
          "execution_count": 107
        }
      ]
    },
    {
      "cell_type": "code",
      "source": [
        "y_pre=ag.predict(X_test)\n",
        "y_pre"
      ],
      "metadata": {
        "id": "QdPdML8fCeCu"
      },
      "execution_count": null,
      "outputs": []
    },
    {
      "cell_type": "code",
      "source": [
        "from sklearn.metrics import confusion_matrix\n",
        "mz=confusion_matrix(y_test,y_pre)\n",
        "print('Matriz Confusion')\n",
        "print(mz)"
      ],
      "metadata": {
        "id": "QwnWbAMaCxmc"
      },
      "execution_count": null,
      "outputs": []
    },
    {
      "cell_type": "code",
      "source": [
        "from sklearn.metrics import precision_score\n",
        "preci=precision_score(y_test,y_pre,average='binary',pos_label='yes')\n",
        "print(preci)"
      ],
      "metadata": {
        "id": "RPPO-t9PDLGS"
      },
      "execution_count": null,
      "outputs": []
    },
    {
      "cell_type": "code",
      "source": [
        "from sklearn.metrics import accuracy_score\n",
        "exa=accuracy_score(y_test,y_pre)\n",
        "print('Exactitud')\n",
        "print(exa)"
      ],
      "metadata": {
        "id": "Qj82N7EDDnOt"
      },
      "execution_count": null,
      "outputs": []
    },
    {
      "cell_type": "code",
      "source": [
        "from sklearn.metrics import recall_score\n",
        "sens=recall_score(y_test,y_pre,average='binary',pos_label='yes')\n",
        "print('Sensibilidad')\n",
        "print(sens)"
      ],
      "metadata": {
        "colab": {
          "base_uri": "https://localhost:8080/"
        },
        "id": "G7MAaKZED4WE",
        "outputId": "19413e23-a156-458e-dd95-25749a556fb6"
      },
      "execution_count": 115,
      "outputs": [
        {
          "output_type": "stream",
          "name": "stdout",
          "text": [
            "Sensibilidad\n",
            "0.9444444444444444\n"
          ]
        }
      ]
    },
    {
      "cell_type": "code",
      "source": [
        "vars_indepe=df[['97_number_of_customers_in_store','317_home_deliveries','2_current_permanent_employees']]\n",
        "vars_depe=df['310_burnout']"
      ],
      "metadata": {
        "id": "CPiO6OKZEQAL"
      },
      "execution_count": 116,
      "outputs": []
    },
    {
      "cell_type": "code",
      "source": [
        "X=vars_indepe\n",
        "y=vars_depe"
      ],
      "metadata": {
        "id": "8iH-gJjgEk_Q"
      },
      "execution_count": 117,
      "outputs": []
    },
    {
      "cell_type": "code",
      "source": [
        "X_train,X_test,y_train,y_test=train_test_split(X,y,test_size=0.3,random_state=None)"
      ],
      "metadata": {
        "id": "0TnPhdXhEpdK"
      },
      "execution_count": 118,
      "outputs": []
    },
    {
      "cell_type": "code",
      "source": [
        "esc=StandardScaler()"
      ],
      "metadata": {
        "id": "vda2JO3BE_kd"
      },
      "execution_count": 119,
      "outputs": []
    },
    {
      "cell_type": "code",
      "source": [
        "X_train=esc.fit_transform(X_train)\n",
        "X_test=esc.transform(X_test)"
      ],
      "metadata": {
        "id": "cdsoChL5FD6d"
      },
      "execution_count": null,
      "outputs": []
    },
    {
      "cell_type": "code",
      "source": [
        "from sklearn.linear_model import LogisticRegression\n",
        "ag=LogisticRegression()"
      ],
      "metadata": {
        "id": "bJVgCEB0FS8l"
      },
      "execution_count": 122,
      "outputs": []
    },
    {
      "cell_type": "code",
      "source": [
        "ag.fit(X_train,y_train)"
      ],
      "metadata": {
        "id": "fA26vN2KFf5g"
      },
      "execution_count": null,
      "outputs": []
    },
    {
      "cell_type": "code",
      "source": [
        "y_p=ag.predict(X_test)\n",
        "y_p"
      ],
      "metadata": {
        "id": "dvpRD8KPFm-0"
      },
      "execution_count": null,
      "outputs": []
    },
    {
      "cell_type": "code",
      "source": [
        "from sklearn.metrics import confusion_matrix\n",
        "mz=confusion_matrix(y_test,y_pre)\n",
        "print('M de Confusion')\n",
        "print(mz)"
      ],
      "metadata": {
        "id": "CSwvej8kFvNF"
      },
      "execution_count": null,
      "outputs": []
    },
    {
      "cell_type": "code",
      "source": [
        "from sklearn.metrics import precision_score\n",
        "preci=precision_score(y_test,y_pre,average='binary',pos_label='yes')\n",
        "print('Precision presentada del modelo')\n",
        "print(preci)"
      ],
      "metadata": {
        "id": "IlqK5mxnGBAq"
      },
      "execution_count": null,
      "outputs": []
    },
    {
      "cell_type": "code",
      "source": [
        "from sklearn.metrics import accuracy_score\n",
        "exa=accuracy_score(y_test,y_pre)\n",
        "print('Exactitud del modelo')\n",
        "print(exa)"
      ],
      "metadata": {
        "id": "qFp-dcmAGVsx"
      },
      "execution_count": null,
      "outputs": []
    },
    {
      "cell_type": "code",
      "source": [
        "from sklearn.metrics import recall_score\n",
        "sens=recall_score(y_test,y_pre,average=\"binary\",pos_label=\"yes\")\n",
        "print('Sensibilidad presentada en el modelo')\n",
        "print(sens)"
      ],
      "metadata": {
        "id": "hswiBxiVGla_"
      },
      "execution_count": null,
      "outputs": []
    }
  ]
}