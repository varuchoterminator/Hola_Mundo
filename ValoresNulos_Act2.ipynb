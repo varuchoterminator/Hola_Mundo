{
  "nbformat": 4,
  "nbformat_minor": 0,
  "metadata": {
    "colab": {
      "provenance": [],
      "authorship_tag": "ABX9TyNrt21I7mGlXgmjQYH3ovwf",
      "include_colab_link": true
    },
    "kernelspec": {
      "name": "python3",
      "display_name": "Python 3"
    },
    "language_info": {
      "name": "python"
    }
  },
  "cells": [
    {
      "cell_type": "markdown",
      "metadata": {
        "id": "view-in-github",
        "colab_type": "text"
      },
      "source": [
        "<a href=\"https://colab.research.google.com/github/varuchoterminator/Hola_Mundo/blob/main/ValoresNulos_Act2.ipynb\" target=\"_parent\"><img src=\"https://colab.research.google.com/assets/colab-badge.svg\" alt=\"Open In Colab\"/></a>"
      ]
    },
    {
      "cell_type": "code",
      "execution_count": 1,
      "metadata": {
        "id": "afgDot-8s8ep"
      },
      "outputs": [],
      "source": [
        "import pandas as pd\n",
        "import numpy as np\n",
        "import matplotlib.pyplot as plt"
      ]
    },
    {
      "cell_type": "code",
      "source": [
        "from google.colab import files\n",
        "files.upload()"
      ],
      "metadata": {
        "id": "IXM-I6ybtfaW"
      },
      "execution_count": null,
      "outputs": []
    },
    {
      "cell_type": "code",
      "source": [
        "d=pd.read_csv(\"Ventas_totales.csv\")\n",
        "d.head(5)"
      ],
      "metadata": {
        "id": "RQfjhHq8tjkg"
      },
      "execution_count": null,
      "outputs": []
    },
    {
      "cell_type": "code",
      "source": [
        "d.info()"
      ],
      "metadata": {
        "id": "gzfF6Egwt8Hq"
      },
      "execution_count": null,
      "outputs": []
    },
    {
      "cell_type": "code",
      "source": [
        "#checamos los nulos\n",
        "vnulos=d.isnull().sum()\n",
        "vnulos"
      ],
      "metadata": {
        "id": "cQcJT1pyuCfN"
      },
      "execution_count": null,
      "outputs": []
    },
    {
      "cell_type": "code",
      "source": [
        "d2=d.copy()"
      ],
      "metadata": {
        "id": "bmtjo69CuQaW"
      },
      "execution_count": 7,
      "outputs": []
    },
    {
      "cell_type": "code",
      "source": [
        "d2['efectivo']=d2['efectivo'].fillna(round(d2['efectivo'].median(),1))\n",
        "d2"
      ],
      "metadata": {
        "id": "BvqS64Y9uUeg"
      },
      "execution_count": null,
      "outputs": []
    },
    {
      "cell_type": "code",
      "source": [
        "vnulos=d2.isnull().sum()\n",
        "vnulos"
      ],
      "metadata": {
        "id": "mbXBoA2eu2vB"
      },
      "execution_count": null,
      "outputs": []
    },
    {
      "cell_type": "code",
      "source": [
        "d2[\"otros\"]=d2[\"otros\"].fillna(0)\n",
        "d2"
      ],
      "metadata": {
        "id": "wObqdzhwvBtl"
      },
      "execution_count": null,
      "outputs": []
    },
    {
      "cell_type": "code",
      "source": [
        "vnulos=d2.isnull().sum()\n",
        "vnulos"
      ],
      "metadata": {
        "id": "elWDMBPrvJxO"
      },
      "execution_count": null,
      "outputs": []
    },
    {
      "cell_type": "code",
      "source": [
        "d2[\"subtotal_ventas_alimentos_bebidas\"]=d2[\"subtotal_ventas_alimentos_bebidas\"].fillna(method=\"ffill\")\n",
        "d2"
      ],
      "metadata": {
        "id": "2gO7PCuIvT77"
      },
      "execution_count": null,
      "outputs": []
    },
    {
      "cell_type": "code",
      "source": [
        "vnulos=d2.isnull().sum()\n",
        "vnulos"
      ],
      "metadata": {
        "id": "X8_MmfQzvpfC"
      },
      "execution_count": null,
      "outputs": []
    },
    {
      "cell_type": "code",
      "source": [
        "#bfill\n",
        "d2['salon_ventas']=d2[\"salon_ventas\"].fillna(method='bfill')\n",
        "d2"
      ],
      "metadata": {
        "id": "RJr0Op3uvviy"
      },
      "execution_count": null,
      "outputs": []
    },
    {
      "cell_type": "code",
      "source": [
        "valorn=d2.isnull().sum()\n",
        "valorn"
      ],
      "metadata": {
        "id": "3rFX39s_v82O"
      },
      "execution_count": null,
      "outputs": []
    },
    {
      "cell_type": "code",
      "source": [
        "#mean\n",
        "d2['otros_medios']=d2['otros_medios'].fillna(round(d2['otros_medios'].mean(),1))\n",
        "d2"
      ],
      "metadata": {
        "id": "ipfM175CwCQ4"
      },
      "execution_count": null,
      "outputs": []
    },
    {
      "cell_type": "code",
      "source": [
        "vnulos=d2.isnull().sum()\n",
        "vnulos"
      ],
      "metadata": {
        "id": "T48O5-N_wbpB"
      },
      "execution_count": null,
      "outputs": []
    },
    {
      "cell_type": "code",
      "source": [
        "#mean\n",
        "d2['almacen']=d2['almacen'].fillna(round(d2['almacen'].mean(),1))\n",
        "d2"
      ],
      "metadata": {
        "id": "tl6mgbK9wjm6"
      },
      "execution_count": null,
      "outputs": []
    },
    {
      "cell_type": "code",
      "source": [
        "vnulos=d2.isnull().sum()\n",
        "vnulos"
      ],
      "metadata": {
        "id": "PT0k_65Sw2T8"
      },
      "execution_count": null,
      "outputs": []
    },
    {
      "cell_type": "code",
      "source": [
        "d2['bebidas']=d2['bebidas'].fillna(round(d2['bebidas'].mean(),1))\n",
        "d2"
      ],
      "metadata": {
        "id": "62OhR00fw7ma"
      },
      "execution_count": null,
      "outputs": []
    },
    {
      "cell_type": "code",
      "source": [
        "vn=d2.isnull().sum()\n",
        "vn"
      ],
      "metadata": {
        "id": "mDId2_N5xJBI"
      },
      "execution_count": null,
      "outputs": []
    },
    {
      "cell_type": "code",
      "source": [
        "d2['lacteos']=d2['lacteos'].fillna(round(d2['lacteos'].mean(),1))\n",
        "d2"
      ],
      "metadata": {
        "id": "0snkE92TxRhp"
      },
      "execution_count": null,
      "outputs": []
    },
    {
      "cell_type": "code",
      "source": [
        "vn=d2.isnull().sum()\n",
        "vn"
      ],
      "metadata": {
        "id": "czpf6J8NxqIc"
      },
      "execution_count": null,
      "outputs": []
    },
    {
      "cell_type": "code",
      "source": [
        "d2['panaderia']=d2['panaderia'].fillna(round(d2['panaderia'].mean(),1))"
      ],
      "metadata": {
        "id": "RZMVsWW6xuK8"
      },
      "execution_count": null,
      "outputs": []
    },
    {
      "cell_type": "code",
      "source": [
        "vn=d2.isnull().sum()\n",
        "vn"
      ],
      "metadata": {
        "id": "OmD-d9_Wx7Bs"
      },
      "execution_count": null,
      "outputs": []
    },
    {
      "cell_type": "code",
      "source": [
        "d2['carnes']=d2['carnes'].fillna(round(d2['carnes'].mean(),1))\n",
        "d2"
      ],
      "metadata": {
        "id": "3MQgd5w6x_GU"
      },
      "execution_count": null,
      "outputs": []
    },
    {
      "cell_type": "code",
      "source": [
        "vn=d2.isnull().sum()\n",
        "vn"
      ],
      "metadata": {
        "id": "Kjjs_rJEyh74"
      },
      "execution_count": null,
      "outputs": []
    },
    {
      "cell_type": "code",
      "source": [
        "d2['electronicos_articulos_hogar']=d2['electronicos_articulos_hogar'].fillna(round(d2['electronicos_articulos_hogar'].mean(),1))\n",
        "d2"
      ],
      "metadata": {
        "id": "ePxEzkMmynZn"
      },
      "execution_count": null,
      "outputs": []
    },
    {
      "cell_type": "code",
      "source": [
        "vn=d2.isnull().sum()\n",
        "vn"
      ],
      "metadata": {
        "id": "SX4XTGTHzDiu"
      },
      "execution_count": null,
      "outputs": []
    },
    {
      "cell_type": "code",
      "source": [
        "d2['indumentaria_calzado_textiles_hogar']=d2['indumentaria_calzado_textiles_hogar'].fillna(round(d2['indumentaria_calzado_textiles_hogar'].mean(),1))\n",
        "d2"
      ],
      "metadata": {
        "id": "0dyPZDJGzIRg"
      },
      "execution_count": null,
      "outputs": []
    },
    {
      "cell_type": "code",
      "source": [
        "vn=d2.isnull().sum()\n",
        "vn"
      ],
      "metadata": {
        "id": "hMO7N_E5zwZL"
      },
      "execution_count": null,
      "outputs": []
    },
    {
      "cell_type": "code",
      "source": [
        "d2['alimentos_preparados_rotiseria']=d2['alimentos_preparados_rotiseria'].fillna(round(d2['alimentos_preparados_rotiseria'].mean(),1))\n",
        "d2"
      ],
      "metadata": {
        "id": "-w7-rXVgzzyZ"
      },
      "execution_count": null,
      "outputs": []
    },
    {
      "cell_type": "code",
      "source": [
        "vn=d2.isnull().sum().sum()\n",
        "vn"
      ],
      "metadata": {
        "colab": {
          "base_uri": "https://localhost:8080/"
        },
        "id": "VdNw5Jqc0Egk",
        "outputId": "1ab12489-05c9-4522-dd6e-decf5e1e8a25"
      },
      "execution_count": 41,
      "outputs": [
        {
          "output_type": "execute_result",
          "data": {
            "text/plain": [
              "9"
            ]
          },
          "metadata": {},
          "execution_count": 41
        }
      ]
    },
    {
      "cell_type": "code",
      "source": [
        "d2['verduleria_fruteria']=d2['verduleria_fruteria'].fillna(round(d2['verduleria_fruteria'].mean(),1))\n",
        "d2"
      ],
      "metadata": {
        "id": "beL7VVGS0IJB"
      },
      "execution_count": null,
      "outputs": []
    },
    {
      "cell_type": "code",
      "source": [
        "vn=d2.isnull().sum()\n",
        "vn"
      ],
      "metadata": {
        "id": "wA12-UA041-9"
      },
      "execution_count": null,
      "outputs": []
    },
    {
      "cell_type": "code",
      "source": [
        "d2['tarjetas_credito']=d2['tarjetas_credito'].fillna(round(d2['tarjetas_credito'].mean(),1))\n",
        "d2"
      ],
      "metadata": {
        "id": "zM9UwkrS5C_e"
      },
      "execution_count": null,
      "outputs": []
    },
    {
      "cell_type": "code",
      "source": [
        "vn=d2.isnull().sum().sum()\n",
        "vn"
      ],
      "metadata": {
        "id": "A2kcU3nQ5N9P"
      },
      "execution_count": null,
      "outputs": []
    },
    {
      "cell_type": "code",
      "source": [
        "d2['tarjetas_debito']=d2['tarjetas_debito'].fillna(round(d2['tarjetas_debito'].mean(),1))\n",
        "d2"
      ],
      "metadata": {
        "id": "AKkP9dnE5TMN"
      },
      "execution_count": null,
      "outputs": []
    },
    {
      "cell_type": "code",
      "source": [
        "vn=d2.isnull().sum().sum()\n",
        "vn"
      ],
      "metadata": {
        "colab": {
          "base_uri": "https://localhost:8080/"
        },
        "id": "muy-HeCD5cao",
        "outputId": "db2c8425-723a-4824-897b-164d7b82f457"
      },
      "execution_count": 54,
      "outputs": [
        {
          "output_type": "execute_result",
          "data": {
            "text/plain": [
              "0"
            ]
          },
          "metadata": {},
          "execution_count": 54
        }
      ]
    },
    {
      "cell_type": "code",
      "source": [
        "d2.to_csv(\"ventastotales_sin_nulos.csv\")"
      ],
      "metadata": {
        "id": "L9PzX0CI2sZg"
      },
      "execution_count": 55,
      "outputs": []
    },
    {
      "cell_type": "code",
      "source": [
        "from google.colab import files\n",
        "files.download(\"ventastotales_sin_nulos.csv\")"
      ],
      "metadata": {
        "colab": {
          "base_uri": "https://localhost:8080/",
          "height": 17
        },
        "id": "SONJZkM_2xaZ",
        "outputId": "196784d1-58bb-4415-f812-86584b65413d"
      },
      "execution_count": 56,
      "outputs": [
        {
          "output_type": "display_data",
          "data": {
            "text/plain": [
              "<IPython.core.display.Javascript object>"
            ],
            "application/javascript": [
              "\n",
              "    async function download(id, filename, size) {\n",
              "      if (!google.colab.kernel.accessAllowed) {\n",
              "        return;\n",
              "      }\n",
              "      const div = document.createElement('div');\n",
              "      const label = document.createElement('label');\n",
              "      label.textContent = `Downloading \"${filename}\": `;\n",
              "      div.appendChild(label);\n",
              "      const progress = document.createElement('progress');\n",
              "      progress.max = size;\n",
              "      div.appendChild(progress);\n",
              "      document.body.appendChild(div);\n",
              "\n",
              "      const buffers = [];\n",
              "      let downloaded = 0;\n",
              "\n",
              "      const channel = await google.colab.kernel.comms.open(id);\n",
              "      // Send a message to notify the kernel that we're ready.\n",
              "      channel.send({})\n",
              "\n",
              "      for await (const message of channel.messages) {\n",
              "        // Send a message to notify the kernel that we're ready.\n",
              "        channel.send({})\n",
              "        if (message.buffers) {\n",
              "          for (const buffer of message.buffers) {\n",
              "            buffers.push(buffer);\n",
              "            downloaded += buffer.byteLength;\n",
              "            progress.value = downloaded;\n",
              "          }\n",
              "        }\n",
              "      }\n",
              "      const blob = new Blob(buffers, {type: 'application/binary'});\n",
              "      const a = document.createElement('a');\n",
              "      a.href = window.URL.createObjectURL(blob);\n",
              "      a.download = filename;\n",
              "      div.appendChild(a);\n",
              "      a.click();\n",
              "      div.remove();\n",
              "    }\n",
              "  "
            ]
          },
          "metadata": {}
        },
        {
          "output_type": "display_data",
          "data": {
            "text/plain": [
              "<IPython.core.display.Javascript object>"
            ],
            "application/javascript": [
              "download(\"download_35ecbf27-da90-43fb-9e8b-8462052fa04e\", \"ventastotales_sin_nulos.csv\", 18574)"
            ]
          },
          "metadata": {}
        }
      ]
    }
  ]
}