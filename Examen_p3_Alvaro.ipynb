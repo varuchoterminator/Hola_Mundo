{
  "nbformat": 4,
  "nbformat_minor": 0,
  "metadata": {
    "colab": {
      "provenance": [],
      "authorship_tag": "ABX9TyN8oFPgNE2+VqnzMj6OJidq",
      "include_colab_link": true
    },
    "kernelspec": {
      "name": "python3",
      "display_name": "Python 3"
    },
    "language_info": {
      "name": "python"
    }
  },
  "cells": [
    {
      "cell_type": "markdown",
      "metadata": {
        "id": "view-in-github",
        "colab_type": "text"
      },
      "source": [
        "<a href=\"https://colab.research.google.com/github/varuchoterminator/Hola_Mundo/blob/main/Examen_p3_Alvaro.ipynb\" target=\"_parent\"><img src=\"https://colab.research.google.com/assets/colab-badge.svg\" alt=\"Open In Colab\"/></a>"
      ]
    },
    {
      "cell_type": "code",
      "execution_count": 1,
      "metadata": {
        "id": "EHr1qM1sutUQ"
      },
      "outputs": [],
      "source": [
        "#Alvaro Elias-A01730591\n",
        "#Importamos las librerias \n",
        "import pandas as pd\n",
        "import numpy as np\n",
        "import matplotlib.pyplot as plt"
      ]
    },
    {
      "cell_type": "code",
      "source": [
        "#Cargar archivo csv desde equipo\n",
        "from google.colab import files\n",
        "files.upload()"
      ],
      "metadata": {
        "id": "3Du5hP4Bu1OG"
      },
      "execution_count": null,
      "outputs": []
    },
    {
      "cell_type": "code",
      "source": [
        "#Carga desde un archivo \n",
        "data= pd.read_csv('lastmile_delivery_operations_mit_lift_lab.csv') "
      ],
      "metadata": {
        "id": "kAePkPF_vDvH"
      },
      "execution_count": 3,
      "outputs": []
    },
    {
      "cell_type": "code",
      "source": [
        "#Verificamos información del DataFrame\n",
        "data.info()"
      ],
      "metadata": {
        "colab": {
          "base_uri": "https://localhost:8080/"
        },
        "id": "7bBmyed8vN67",
        "outputId": "e8050f42-8a07-4a86-d804-d3a825abacdd"
      },
      "execution_count": 12,
      "outputs": [
        {
          "output_type": "stream",
          "name": "stdout",
          "text": [
            "<class 'pandas.core.frame.DataFrame'>\n",
            "RangeIndex: 182 entries, 0 to 181\n",
            "Data columns (total 29 columns):\n",
            " #   Column                                         Non-Null Count  Dtype  \n",
            "---  ------                                         --------------  -----  \n",
            " 0   _record_id                                     182 non-null    object \n",
            " 1   _title                                         176 non-null    object \n",
            " 2   _server_updated_at                             182 non-null    object \n",
            " 3   _updated_by                                    182 non-null    object \n",
            " 4   _geometry                                      182 non-null    object \n",
            " 5   _latitude                                      182 non-null    float64\n",
            " 6   _longitude                                     182 non-null    float64\n",
            " 7   arrival_of_the_freight_vehicle                 182 non-null    object \n",
            " 8   plates                                         181 non-null    object \n",
            " 9   company_if_visible                             109 non-null    object \n",
            " 10  visit_purpose                                  182 non-null    object \n",
            " 11  type_of_vehicle                                182 non-null    object \n",
            " 12  number_of_operators                            182 non-null    int64  \n",
            " 13  refrigerated_truck                             182 non-null    object \n",
            " 14  type_of_cargo                                  182 non-null    object \n",
            " 15  picture_of_the_parked_freight_vehicle          182 non-null    object \n",
            " 16  departure_of_the_freight_vehicle               182 non-null    object \n",
            " 17  where_was_the_vehicle_parked                   182 non-null    object \n",
            " 18  while_parked_was_the_engine_running            182 non-null    object \n",
            " 19  used_traffic_cone                              182 non-null    object \n",
            " 20  vehicles_unloading_door                        182 non-null    object \n",
            " 21  number_of_available_trolleys                   182 non-null    int64  \n",
            " 22  serving_customer                               35 non-null     float64\n",
            " 23  garage_blocking                                182 non-null    object \n",
            " 24  accident                                       182 non-null    object \n",
            " 25  describe_the_accident                          0 non-null      float64\n",
            " 26  noise                                          182 non-null    object \n",
            " 27  traffic_congestion                             182 non-null    object \n",
            " 28  maximum_number_of_vehicles_in_the_traffic_jam  2 non-null      float64\n",
            "dtypes: float64(5), int64(2), object(22)\n",
            "memory usage: 41.4+ KB\n"
          ]
        }
      ]
    },
    {
      "cell_type": "code",
      "source": [
        "#valores nulos\n",
        "valoresnulos=data.isnull().sum()\n",
        "valoresnulos"
      ],
      "metadata": {
        "id": "Dac3zYr-vqih"
      },
      "execution_count": null,
      "outputs": []
    },
    {
      "cell_type": "code",
      "source": [
        "#Reemplazamos valores nulos\n",
        "data1 =data.fillna(method=\"ffill\") \n",
        "data1"
      ],
      "metadata": {
        "id": "YORm_W3tvvzk"
      },
      "execution_count": null,
      "outputs": []
    },
    {
      "cell_type": "code",
      "source": [
        "#valores nulos\n",
        "valoresnulos=data1.isnull().sum()\n",
        "valoresnulos"
      ],
      "metadata": {
        "id": "_we5GUXiwGAQ"
      },
      "execution_count": null,
      "outputs": []
    },
    {
      "cell_type": "code",
      "source": [
        "df=data1.fillna(0)"
      ],
      "metadata": {
        "id": "IE9Ykeo8wIqT"
      },
      "execution_count": 8,
      "outputs": []
    },
    {
      "cell_type": "code",
      "source": [
        "#valores nulos\n",
        "valoresnulos=df.isnull().sum()\n",
        "valoresnulos"
      ],
      "metadata": {
        "id": "F_lgPdYZwQby"
      },
      "execution_count": null,
      "outputs": []
    },
    {
      "cell_type": "code",
      "source": [
        "#Filtro por columnas\n",
        "filtro=df.iloc[ : ,[12,21]]\n",
        "filtro"
      ],
      "metadata": {
        "id": "OI1K3ZuAwXFg"
      },
      "execution_count": null,
      "outputs": []
    },
    {
      "cell_type": "code",
      "source": [
        "#Método aplicando desviación estandar. Encuentro los valores extremos\n",
        "y=filtro\n",
        "Limite_Superior= y.mean() + 3*y.std()\n",
        "Limite_Inferior= y.mean() - 3*y.std()\n",
        "print(\"Limite superior permitido\", Limite_Superior)\n",
        "print(\"Limite inferior permitido\", Limite_Inferior)"
      ],
      "metadata": {
        "id": "aheAJXbrwplL"
      },
      "execution_count": null,
      "outputs": []
    },
    {
      "cell_type": "code",
      "source": [
        "#Encontramos Ouliers del Dataframe\n",
        "outliers= filtro[(y>Limite_Superior)|(y<Limite_Inferior)]\n",
        "outliers"
      ],
      "metadata": {
        "id": "nV4d-4ffwv_A"
      },
      "execution_count": null,
      "outputs": []
    },
    {
      "cell_type": "code",
      "source": [
        "#Convertir outliers en nulos\n",
        "dataf= filtro[(y<=Limite_Superior)&(y>=Limite_Inferior)]\n",
        "dataf"
      ],
      "metadata": {
        "id": "S5TsaHaSwzdZ"
      },
      "execution_count": null,
      "outputs": []
    },
    {
      "cell_type": "code",
      "source": [
        "#valores nulos\n",
        "valoresnulos=dataf.isnull().sum()\n",
        "valoresnulos"
      ],
      "metadata": {
        "id": "h2YAaEEpw2vg"
      },
      "execution_count": null,
      "outputs": []
    },
    {
      "cell_type": "code",
      "source": [
        "#Reemplazamos valores nulos\n",
        "dataf =dataf.fillna(method=\"bfill\") \n",
        "dataf"
      ],
      "metadata": {
        "id": "I7xGmqJNw6qU"
      },
      "execution_count": null,
      "outputs": []
    },
    {
      "cell_type": "code",
      "source": [
        "#valores nulos\n",
        "valoresnulos=dataf.isnull().sum()\n",
        "valoresnulos"
      ],
      "metadata": {
        "id": "lzKYnda1xBId"
      },
      "execution_count": null,
      "outputs": []
    },
    {
      "cell_type": "code",
      "source": [
        "#Realizamos diagrama de caja\n",
        "fig = plt.figure(figsize =(15, 8))\n",
        "dataf.plot(kind='box', vert=False)\n",
        "plt.title(\"Valores Atípicos del Dataframe\")\n",
        "plt.show() "
      ],
      "metadata": {
        "id": "4FiT3ICzxC7R"
      },
      "execution_count": null,
      "outputs": []
    },
    {
      "cell_type": "code",
      "source": [
        "#Filtro por columnas\n",
        "filtro2=df.iloc[ : ,[0,1,2,3,4,7,8,9,10,11,13,14,15,16,17,18,19,20,23,24,26,27]]\n",
        "filtro2"
      ],
      "metadata": {
        "id": "gzDKB6o_xH8J"
      },
      "execution_count": null,
      "outputs": []
    },
    {
      "cell_type": "code",
      "source": [
        "Datos_lim = pd.concat([filtro, filtro2], axis=1)\n",
        "Datos_lim"
      ],
      "metadata": {
        "id": "TpnVpIu4xv0k"
      },
      "execution_count": null,
      "outputs": []
    },
    {
      "cell_type": "code",
      "source": [
        "#Corroboramos valores nulos del dataframe \n",
        "valores_nulos=Datos_lim.isnull().sum()\n",
        "valores_nulos"
      ],
      "metadata": {
        "id": "SRKzdCZ8x8C_"
      },
      "execution_count": null,
      "outputs": []
    },
    {
      "cell_type": "code",
      "source": [
        "#Convertir DataFrame a CSV\n",
        "Datos_lim.to_csv(\"Datos_limpios3.csv\")"
      ],
      "metadata": {
        "id": "PstIvhWHyC1N"
      },
      "execution_count": 27,
      "outputs": []
    },
    {
      "cell_type": "code",
      "source": [
        "#descargar archivo \n",
        "from google.colab import files \n",
        "  \n",
        "  \n",
        "files.download(\"Datos_limpios3.csv\")"
      ],
      "metadata": {
        "colab": {
          "base_uri": "https://localhost:8080/",
          "height": 17
        },
        "id": "cmnmX4c_yG3k",
        "outputId": "03ded322-342c-4b32-f8c2-aeed6c974af1"
      },
      "execution_count": 28,
      "outputs": [
        {
          "output_type": "display_data",
          "data": {
            "text/plain": [
              "<IPython.core.display.Javascript object>"
            ],
            "application/javascript": [
              "\n",
              "    async function download(id, filename, size) {\n",
              "      if (!google.colab.kernel.accessAllowed) {\n",
              "        return;\n",
              "      }\n",
              "      const div = document.createElement('div');\n",
              "      const label = document.createElement('label');\n",
              "      label.textContent = `Downloading \"${filename}\": `;\n",
              "      div.appendChild(label);\n",
              "      const progress = document.createElement('progress');\n",
              "      progress.max = size;\n",
              "      div.appendChild(progress);\n",
              "      document.body.appendChild(div);\n",
              "\n",
              "      const buffers = [];\n",
              "      let downloaded = 0;\n",
              "\n",
              "      const channel = await google.colab.kernel.comms.open(id);\n",
              "      // Send a message to notify the kernel that we're ready.\n",
              "      channel.send({})\n",
              "\n",
              "      for await (const message of channel.messages) {\n",
              "        // Send a message to notify the kernel that we're ready.\n",
              "        channel.send({})\n",
              "        if (message.buffers) {\n",
              "          for (const buffer of message.buffers) {\n",
              "            buffers.push(buffer);\n",
              "            downloaded += buffer.byteLength;\n",
              "            progress.value = downloaded;\n",
              "          }\n",
              "        }\n",
              "      }\n",
              "      const blob = new Blob(buffers, {type: 'application/binary'});\n",
              "      const a = document.createElement('a');\n",
              "      a.href = window.URL.createObjectURL(blob);\n",
              "      a.download = filename;\n",
              "      div.appendChild(a);\n",
              "      a.click();\n",
              "      div.remove();\n",
              "    }\n",
              "  "
            ]
          },
          "metadata": {}
        },
        {
          "output_type": "display_data",
          "data": {
            "text/plain": [
              "<IPython.core.display.Javascript object>"
            ],
            "application/javascript": [
              "download(\"download_8f7e4e66-1c01-423d-b5d1-fefd03e5f27f\", \"Datos_limpios3.csv\", 80559)"
            ]
          },
          "metadata": {}
        }
      ]
    }
  ]
}