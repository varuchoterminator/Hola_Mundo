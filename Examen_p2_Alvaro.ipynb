{
  "nbformat": 4,
  "nbformat_minor": 0,
  "metadata": {
    "colab": {
      "provenance": [],
      "authorship_tag": "ABX9TyNPjTNhfhhFdNWDkjEX3OPZ",
      "include_colab_link": true
    },
    "kernelspec": {
      "name": "python3",
      "display_name": "Python 3"
    },
    "language_info": {
      "name": "python"
    }
  },
  "cells": [
    {
      "cell_type": "markdown",
      "metadata": {
        "id": "view-in-github",
        "colab_type": "text"
      },
      "source": [
        "<a href=\"https://colab.research.google.com/github/varuchoterminator/Hola_Mundo/blob/main/Examen_p2_Alvaro.ipynb\" target=\"_parent\"><img src=\"https://colab.research.google.com/assets/colab-badge.svg\" alt=\"Open In Colab\"/></a>"
      ]
    },
    {
      "cell_type": "code",
      "execution_count": 1,
      "metadata": {
        "id": "iCvj7LcwmBOo"
      },
      "outputs": [],
      "source": [
        "#Alvaro Elias-A01730591\n",
        "#Importamos las librerias \n",
        "import pandas as pd\n",
        "import numpy as np\n",
        "import matplotlib.pyplot as plt"
      ]
    },
    {
      "cell_type": "code",
      "source": [
        "#Cargar archivo csv desde equipo\n",
        "from google.colab import files\n",
        "files.upload()"
      ],
      "metadata": {
        "id": "WO7JD1MomOIw"
      },
      "execution_count": null,
      "outputs": []
    },
    {
      "cell_type": "code",
      "source": [
        "#Carga desde un archivo\n",
        "data= pd.read_excel('microretailer_mit_lift_lab.xlsx') "
      ],
      "metadata": {
        "id": "nAL-HXeVmYVP"
      },
      "execution_count": 3,
      "outputs": []
    },
    {
      "cell_type": "code",
      "source": [
        "#Verificamos información del DataFrame\n",
        "data.info()"
      ],
      "metadata": {
        "id": "hRioUGNXmiZE"
      },
      "execution_count": null,
      "outputs": []
    },
    {
      "cell_type": "code",
      "source": [
        "#valores nulos\n",
        "valoresnulos=data.isnull().sum()\n",
        "valoresnulos"
      ],
      "metadata": {
        "colab": {
          "base_uri": "https://localhost:8080/"
        },
        "id": "mYVkklbvmpr2",
        "outputId": "be2da671-2960-4590-aa54-15d6b35e2975"
      },
      "execution_count": 12,
      "outputs": [
        {
          "output_type": "execute_result",
          "data": {
            "text/plain": [
              "_record_id                                0\n",
              "_title                                    0\n",
              "_server_updated_at                        0\n",
              "_updated_by                               0\n",
              "_geometry                                 0\n",
              "                                       ... \n",
              "234_willingness_participate_workshop     73\n",
              "318_shopkeeper_name                     123\n",
              "319_shopkeepers_last_name               125\n",
              "236_whatsapp                            129\n",
              "235_email                               142\n",
              "Length: 106, dtype: int64"
            ]
          },
          "metadata": {},
          "execution_count": 12
        }
      ]
    },
    {
      "cell_type": "code",
      "source": [
        "#Reemplazamos valores nulos\n",
        "data1 =data.fillna(method=\"ffill\") \n",
        "data1"
      ],
      "metadata": {
        "id": "cPI12mmNmxrW"
      },
      "execution_count": null,
      "outputs": []
    },
    {
      "cell_type": "code",
      "source": [
        "#valores nulos\n",
        "valoresnulos=data1.isnull().sum()\n",
        "valoresnulos"
      ],
      "metadata": {
        "id": "jmD4XrFNm0xV"
      },
      "execution_count": null,
      "outputs": []
    },
    {
      "cell_type": "code",
      "source": [
        "df=data1.fillna(0)"
      ],
      "metadata": {
        "id": "PFYtEQcMm5q-"
      },
      "execution_count": 45,
      "outputs": []
    },
    {
      "cell_type": "code",
      "source": [
        "#valores nulos\n",
        "valoresnulos=df.isnull().sum()\n",
        "valoresnulos"
      ],
      "metadata": {
        "colab": {
          "base_uri": "https://localhost:8080/"
        },
        "id": "QnhqoG7gm-aq",
        "outputId": "04b3bb32-bc83-412f-da57-f25e65dbb17a"
      },
      "execution_count": 47,
      "outputs": [
        {
          "output_type": "execute_result",
          "data": {
            "text/plain": [
              "_record_id                              0\n",
              "_title                                  0\n",
              "_server_updated_at                      0\n",
              "_updated_by                             0\n",
              "_geometry                               0\n",
              "                                       ..\n",
              "234_willingness_participate_workshop    0\n",
              "318_shopkeeper_name                     0\n",
              "319_shopkeepers_last_name               0\n",
              "236_whatsapp                            0\n",
              "235_email                               0\n",
              "Length: 106, dtype: int64"
            ]
          },
          "metadata": {},
          "execution_count": 47
        }
      ]
    },
    {
      "cell_type": "code",
      "source": [
        "#Método aplicando desviación estandar. Encuentro los valores extremos\n",
        "y=df\n",
        "Limite_Superior= y.mean() + 3*y.std()\n",
        "Limite_Inferior= y.mean() - 3*y.std()\n",
        "print(\"Limite superior permitido\", Limite_Superior)\n",
        "print(\"Limite inferior permitido\", Limite_Inferior)"
      ],
      "metadata": {
        "id": "ioBmgurpnFA7"
      },
      "execution_count": null,
      "outputs": []
    },
    {
      "cell_type": "code",
      "source": [
        "#Encontramos Ouliers del Dataframe\n",
        "outliers= df[(y>Limite_Superior)|(y<Limite_Inferior)]\n",
        "outliers"
      ],
      "metadata": {
        "id": "WolmzCEApbAQ"
      },
      "execution_count": null,
      "outputs": []
    },
    {
      "cell_type": "code",
      "source": [
        "#Convertir outliers en nulos\n",
        "dataf= df[(y<=Limite_Superior)&(y>=Limite_Inferior)]\n",
        "dataf"
      ],
      "metadata": {
        "id": "Ouz1HpLNp_Vr"
      },
      "execution_count": null,
      "outputs": []
    },
    {
      "cell_type": "code",
      "source": [
        "#valores nulos\n",
        "valoresnulos=dataf.isnull().sum()\n",
        "valoresnulos"
      ],
      "metadata": {
        "colab": {
          "base_uri": "https://localhost:8080/"
        },
        "id": "iE3nus6HqQ7N",
        "outputId": "37ef2103-7916-4489-f3fa-13fa70a4e506"
      },
      "execution_count": 53,
      "outputs": [
        {
          "output_type": "execute_result",
          "data": {
            "text/plain": [
              "_record_id                              171\n",
              "_title                                  171\n",
              "_server_updated_at                      171\n",
              "_updated_by                             171\n",
              "_geometry                               171\n",
              "                                       ... \n",
              "234_willingness_participate_workshop    171\n",
              "318_shopkeeper_name                     171\n",
              "319_shopkeepers_last_name               171\n",
              "236_whatsapp                              3\n",
              "235_email                               171\n",
              "Length: 106, dtype: int64"
            ]
          },
          "metadata": {},
          "execution_count": 53
        }
      ]
    },
    {
      "cell_type": "code",
      "source": [
        "#Reemlpazo de nulos con bfill\n",
        "data2=dataf.fillna(0)\n",
        "data2"
      ],
      "metadata": {
        "id": "PvTHyRTarlCK"
      },
      "execution_count": null,
      "outputs": []
    },
    {
      "cell_type": "code",
      "source": [
        "#identificamos valores nulos\n",
        "valoresnulos=data2.isnull().sum()\n",
        "valoresnulos"
      ],
      "metadata": {
        "colab": {
          "base_uri": "https://localhost:8080/"
        },
        "id": "aydjPR_5r74k",
        "outputId": "c20d0717-af12-407b-b729-9e0818220a31"
      },
      "execution_count": 56,
      "outputs": [
        {
          "output_type": "execute_result",
          "data": {
            "text/plain": [
              "_record_id                              0\n",
              "_title                                  0\n",
              "_server_updated_at                      0\n",
              "_updated_by                             0\n",
              "_geometry                               0\n",
              "                                       ..\n",
              "234_willingness_participate_workshop    0\n",
              "318_shopkeeper_name                     0\n",
              "319_shopkeepers_last_name               0\n",
              "236_whatsapp                            0\n",
              "235_email                               0\n",
              "Length: 106, dtype: int64"
            ]
          },
          "metadata": {},
          "execution_count": 56
        }
      ]
    },
    {
      "cell_type": "code",
      "source": [
        "Datos_lim = pd.concat([df, data2], axis=1)\n",
        "Datos_lim"
      ],
      "metadata": {
        "id": "-qwlN2QYtByu"
      },
      "execution_count": null,
      "outputs": []
    },
    {
      "cell_type": "code",
      "source": [
        "#Corroboramos valores nulos del dataframe \n",
        "valores_nulos=Datos_lim.isnull().sum().sum()\n",
        "valores_nulos"
      ],
      "metadata": {
        "colab": {
          "base_uri": "https://localhost:8080/"
        },
        "id": "yzR2Hlw-tWaC",
        "outputId": "7b33b230-88fe-4fda-bcf6-8b671e3bc696"
      },
      "execution_count": 57,
      "outputs": [
        {
          "output_type": "execute_result",
          "data": {
            "text/plain": [
              "0"
            ]
          },
          "metadata": {},
          "execution_count": 57
        }
      ]
    },
    {
      "cell_type": "code",
      "source": [
        "#Convertir DataFrame a CSV\n",
        "Datos_lim.to_csv(\"Datos_limpios.csv\")"
      ],
      "metadata": {
        "id": "K05vmcmLuWyp"
      },
      "execution_count": 58,
      "outputs": []
    },
    {
      "cell_type": "code",
      "source": [
        "#descargar archivo \n",
        "from google.colab import files \n",
        "  \n",
        "  \n",
        "files.download(\"Datos_limpios.csv\")"
      ],
      "metadata": {
        "colab": {
          "base_uri": "https://localhost:8080/",
          "height": 17
        },
        "id": "AySeLwvJuX1O",
        "outputId": "0a6138df-7086-4f34-f1e3-197aff9be0e5"
      },
      "execution_count": 59,
      "outputs": [
        {
          "output_type": "display_data",
          "data": {
            "text/plain": [
              "<IPython.core.display.Javascript object>"
            ],
            "application/javascript": [
              "\n",
              "    async function download(id, filename, size) {\n",
              "      if (!google.colab.kernel.accessAllowed) {\n",
              "        return;\n",
              "      }\n",
              "      const div = document.createElement('div');\n",
              "      const label = document.createElement('label');\n",
              "      label.textContent = `Downloading \"${filename}\": `;\n",
              "      div.appendChild(label);\n",
              "      const progress = document.createElement('progress');\n",
              "      progress.max = size;\n",
              "      div.appendChild(progress);\n",
              "      document.body.appendChild(div);\n",
              "\n",
              "      const buffers = [];\n",
              "      let downloaded = 0;\n",
              "\n",
              "      const channel = await google.colab.kernel.comms.open(id);\n",
              "      // Send a message to notify the kernel that we're ready.\n",
              "      channel.send({})\n",
              "\n",
              "      for await (const message of channel.messages) {\n",
              "        // Send a message to notify the kernel that we're ready.\n",
              "        channel.send({})\n",
              "        if (message.buffers) {\n",
              "          for (const buffer of message.buffers) {\n",
              "            buffers.push(buffer);\n",
              "            downloaded += buffer.byteLength;\n",
              "            progress.value = downloaded;\n",
              "          }\n",
              "        }\n",
              "      }\n",
              "      const blob = new Blob(buffers, {type: 'application/binary'});\n",
              "      const a = document.createElement('a');\n",
              "      a.href = window.URL.createObjectURL(blob);\n",
              "      a.download = filename;\n",
              "      div.appendChild(a);\n",
              "      a.click();\n",
              "      div.remove();\n",
              "    }\n",
              "  "
            ]
          },
          "metadata": {}
        },
        {
          "output_type": "display_data",
          "data": {
            "text/plain": [
              "<IPython.core.display.Javascript object>"
            ],
            "application/javascript": [
              "download(\"download_bd1471bb-ad79-42f2-9490-b6ded86bf366\", \"Datos_limpios.csv\", 312648)"
            ]
          },
          "metadata": {}
        }
      ]
    }
  ]
}