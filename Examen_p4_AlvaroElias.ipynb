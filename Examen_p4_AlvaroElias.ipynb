{
  "nbformat": 4,
  "nbformat_minor": 0,
  "metadata": {
    "colab": {
      "provenance": [],
      "authorship_tag": "ABX9TyPmNT1adjIlXRB+qHTjxA3B",
      "include_colab_link": true
    },
    "kernelspec": {
      "name": "python3",
      "display_name": "Python 3"
    },
    "language_info": {
      "name": "python"
    }
  },
  "cells": [
    {
      "cell_type": "markdown",
      "metadata": {
        "id": "view-in-github",
        "colab_type": "text"
      },
      "source": [
        "<a href=\"https://colab.research.google.com/github/varuchoterminator/Hola_Mundo/blob/main/Examen_p4_AlvaroElias.ipynb\" target=\"_parent\"><img src=\"https://colab.research.google.com/assets/colab-badge.svg\" alt=\"Open In Colab\"/></a>"
      ]
    },
    {
      "cell_type": "code",
      "execution_count": 1,
      "metadata": {
        "id": "-VXp7mV7yx7M"
      },
      "outputs": [],
      "source": [
        "#Alvaro Elias-A01730591\n",
        "#Importamos las librerias \n",
        "import pandas as pd\n",
        "import numpy as np\n",
        "import matplotlib.pyplot as plt"
      ]
    },
    {
      "cell_type": "code",
      "source": [
        "#Cargar archivo csv desde equipo\n",
        "from google.colab import files\n",
        "files.upload()"
      ],
      "metadata": {
        "id": "xeOdnfSyy6Y6"
      },
      "execution_count": null,
      "outputs": []
    },
    {
      "cell_type": "code",
      "source": [
        "#Carga desde un archivo\n",
        "data= pd.read_csv('lastmile_delivery_operations_mit_lift_lab_serving_customer.csv') "
      ],
      "metadata": {
        "id": "ZWhoem6PzExz"
      },
      "execution_count": 3,
      "outputs": []
    },
    {
      "cell_type": "code",
      "source": [
        "#Verificamos información del DataFrame\n",
        "data.info()"
      ],
      "metadata": {
        "id": "yksiXlIWzPeo"
      },
      "execution_count": null,
      "outputs": []
    },
    {
      "cell_type": "code",
      "source": [
        "#valores nulos\n",
        "valoresnulos=data.isnull().sum()\n",
        "valoresnulos"
      ],
      "metadata": {
        "id": "OeE6g_IkzVuF"
      },
      "execution_count": null,
      "outputs": []
    },
    {
      "cell_type": "code",
      "source": [
        "#Reemplazamos valores nulos\n",
        "data1 =data.fillna(method=\"ffill\") \n",
        "data1"
      ],
      "metadata": {
        "id": "8DAMVimTzaKx"
      },
      "execution_count": null,
      "outputs": []
    },
    {
      "cell_type": "code",
      "source": [
        "#valores nulos\n",
        "valoresnulos=data1.isnull().sum()\n",
        "valoresnulos"
      ],
      "metadata": {
        "id": "DBHHbNyczd8t"
      },
      "execution_count": null,
      "outputs": []
    },
    {
      "cell_type": "code",
      "source": [
        "#corroboro que sean 0\n",
        "valoresnulos=data1.isnull().sum().sum()\n",
        "valoresnulos"
      ],
      "metadata": {
        "id": "CbsuzK1bzlRu"
      },
      "execution_count": null,
      "outputs": []
    },
    {
      "cell_type": "code",
      "source": [
        "#Filtro por columnas\n",
        "filtro=data1.iloc[ : ,[4,9,14,15,16,19,20,24]]\n",
        "filtro"
      ],
      "metadata": {
        "id": "S0EQhzk9zvec"
      },
      "execution_count": null,
      "outputs": []
    },
    {
      "cell_type": "code",
      "source": [
        "#Método aplicando desviación estandar. Encuentro los valores extremos\n",
        "y=filtro\n",
        "Limite_Superior= y.mean() + 3*y.std()\n",
        "Limite_Inferior= y.mean() - 3*y.std()\n",
        "print(\"Limite superior permitido\", Limite_Superior)\n",
        "print(\"Limite inferior permitido\", Limite_Inferior)"
      ],
      "metadata": {
        "id": "bpRbSa5l0Y4f"
      },
      "execution_count": null,
      "outputs": []
    },
    {
      "cell_type": "code",
      "source": [
        "#Encontramos Ouliers del Dataframe\n",
        "outliers= filtro[(y>Limite_Superior)|(y<Limite_Inferior)]\n",
        "outliers"
      ],
      "metadata": {
        "id": "kI7KvjXY0e5k"
      },
      "execution_count": null,
      "outputs": []
    },
    {
      "cell_type": "code",
      "source": [
        "#Convertir outliers en nulos\n",
        "dataf= filtro[(y<=Limite_Superior)&(y>=Limite_Inferior)]\n",
        "dataf"
      ],
      "metadata": {
        "id": "ZOTyt_F-0jA7"
      },
      "execution_count": null,
      "outputs": []
    },
    {
      "cell_type": "code",
      "source": [
        "#valores nulos\n",
        "valoresnulos=dataf.isnull().sum()\n",
        "valoresnulos"
      ],
      "metadata": {
        "id": "WSTWwvXL0mZZ"
      },
      "execution_count": null,
      "outputs": []
    },
    {
      "cell_type": "code",
      "source": [
        "#Reemplazamos valores nulos\n",
        "dataf =dataf.fillna(method=\"bfill\") \n",
        "dataf"
      ],
      "metadata": {
        "id": "m4d55-La0sKL"
      },
      "execution_count": null,
      "outputs": []
    },
    {
      "cell_type": "code",
      "source": [
        "#valores nulos\n",
        "valoresnulos=dataf.isnull().sum()\n",
        "valoresnulos"
      ],
      "metadata": {
        "id": "DM35KEIb0tjK"
      },
      "execution_count": null,
      "outputs": []
    },
    {
      "cell_type": "code",
      "source": [
        "#corroboro que valores nulos totales sea 0\n",
        "valoresnulos=dataf.isnull().sum().sum()\n",
        "valoresnulos"
      ],
      "metadata": {
        "id": "yZ5CyU_B0xJw"
      },
      "execution_count": null,
      "outputs": []
    },
    {
      "cell_type": "code",
      "source": [
        "#Realizamos diagrama de caja\n",
        "fig = plt.figure(figsize =(15, 8))\n",
        "dataf.plot(kind='box', vert=False)\n",
        "plt.title(\"Valores Atípicos del Dataframe\")\n",
        "plt.show() "
      ],
      "metadata": {
        "id": "Sbb2vgEg025s"
      },
      "execution_count": null,
      "outputs": []
    },
    {
      "cell_type": "code",
      "source": [
        "#Filtro por columnas\n",
        "filtro2=data1.iloc[ : ,[0,1,2,3,5,6,7,8,10,13,17,18,21,22,23,25,26]]\n",
        "filtro2"
      ],
      "metadata": {
        "id": "BQfnl20s09S5"
      },
      "execution_count": null,
      "outputs": []
    },
    {
      "cell_type": "code",
      "source": [
        "Datos_lim = pd.concat([filtro, filtro2], axis=1)\n",
        "Datos_lim"
      ],
      "metadata": {
        "id": "4I1B1KZf1sHa"
      },
      "execution_count": null,
      "outputs": []
    },
    {
      "cell_type": "code",
      "source": [
        "#Corroboramos valores nulos del dataframe \n",
        "valores_nulos=Datos_lim.isnull().sum()\n",
        "valores_nulos"
      ],
      "metadata": {
        "id": "T6uVtVgw1348"
      },
      "execution_count": null,
      "outputs": []
    },
    {
      "cell_type": "code",
      "source": [
        "#Corroboramos valores nulos del dataframe totales sean 0\n",
        "valores_nulos=Datos_lim.isnull().sum().sum()\n",
        "valores_nulos"
      ],
      "metadata": {
        "id": "clVBbKmq17kH"
      },
      "execution_count": null,
      "outputs": []
    },
    {
      "cell_type": "code",
      "source": [
        "#Convertir DataFrame a CSV\n",
        "Datos_lim.to_csv(\"Datos_limpios4.csv\")"
      ],
      "metadata": {
        "id": "De-YIKt62Ess"
      },
      "execution_count": 26,
      "outputs": []
    },
    {
      "cell_type": "code",
      "source": [
        "#descargar archivo \n",
        "from google.colab import files \n",
        "  \n",
        "  \n",
        "files.download(\"Datos_limpios4.csv\")"
      ],
      "metadata": {
        "colab": {
          "base_uri": "https://localhost:8080/",
          "height": 17
        },
        "id": "XEZJqJ_F2IKd",
        "outputId": "ed79be85-90bf-47bf-b06f-d00fa32c5a75"
      },
      "execution_count": 27,
      "outputs": [
        {
          "output_type": "display_data",
          "data": {
            "text/plain": [
              "<IPython.core.display.Javascript object>"
            ],
            "application/javascript": [
              "\n",
              "    async function download(id, filename, size) {\n",
              "      if (!google.colab.kernel.accessAllowed) {\n",
              "        return;\n",
              "      }\n",
              "      const div = document.createElement('div');\n",
              "      const label = document.createElement('label');\n",
              "      label.textContent = `Downloading \"${filename}\": `;\n",
              "      div.appendChild(label);\n",
              "      const progress = document.createElement('progress');\n",
              "      progress.max = size;\n",
              "      div.appendChild(progress);\n",
              "      document.body.appendChild(div);\n",
              "\n",
              "      const buffers = [];\n",
              "      let downloaded = 0;\n",
              "\n",
              "      const channel = await google.colab.kernel.comms.open(id);\n",
              "      // Send a message to notify the kernel that we're ready.\n",
              "      channel.send({})\n",
              "\n",
              "      for await (const message of channel.messages) {\n",
              "        // Send a message to notify the kernel that we're ready.\n",
              "        channel.send({})\n",
              "        if (message.buffers) {\n",
              "          for (const buffer of message.buffers) {\n",
              "            buffers.push(buffer);\n",
              "            downloaded += buffer.byteLength;\n",
              "            progress.value = downloaded;\n",
              "          }\n",
              "        }\n",
              "      }\n",
              "      const blob = new Blob(buffers, {type: 'application/binary'});\n",
              "      const a = document.createElement('a');\n",
              "      a.href = window.URL.createObjectURL(blob);\n",
              "      a.download = filename;\n",
              "      div.appendChild(a);\n",
              "      a.click();\n",
              "      div.remove();\n",
              "    }\n",
              "  "
            ]
          },
          "metadata": {}
        },
        {
          "output_type": "display_data",
          "data": {
            "text/plain": [
              "<IPython.core.display.Javascript object>"
            ],
            "application/javascript": [
              "download(\"download_94645e43-f8d6-42ae-893c-9ffd186fff77\", \"Datos_limpios4.csv\", 23762)"
            ]
          },
          "metadata": {}
        }
      ]
    }
  ]
}